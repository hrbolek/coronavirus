{
  "nbformat": 4,
  "nbformat_minor": 0,
  "metadata": {
    "colab": {
      "name": "python_programming.ipynb",
      "provenance": [],
      "toc_visible": true,
      "authorship_tag": "ABX9TyPjUnHuvBRn2EkqcIYjRG50",
      "include_colab_link": true
    },
    "kernelspec": {
      "name": "python3",
      "display_name": "Python 3"
    }
  },
  "cells": [
    {
      "cell_type": "markdown",
      "metadata": {
        "id": "view-in-github",
        "colab_type": "text"
      },
      "source": [
        "<a href=\"https://colab.research.google.com/github/hrbolek/coronavirus/blob/master/introduction/python_programming.ipynb\" target=\"_parent\"><img src=\"https://colab.research.google.com/assets/colab-badge.svg\" alt=\"Open In Colab\"/></a>"
      ]
    },
    {
      "cell_type": "markdown",
      "metadata": {
        "id": "UEKurTi1gFCL",
        "colab_type": "text"
      },
      "source": [
        "# Základy programování v Pythonu"
      ]
    },
    {
      "cell_type": "markdown",
      "metadata": {
        "id": "nU8ay5TDg2-z",
        "colab_type": "text"
      },
      "source": [
        "## Jednoduché datové struktury"
      ]
    },
    {
      "cell_type": "code",
      "metadata": {
        "id": "3KTTFfKRf83d",
        "colab_type": "code",
        "colab": {
          "base_uri": "https://localhost:8080/",
          "height": 35
        },
        "outputId": "f0baf221-80ec-478f-a154-5efd9adb1e05"
      },
      "source": [
        "# cele cislo\n",
        "a = 4\n",
        "print(a)"
      ],
      "execution_count": 1,
      "outputs": [
        {
          "output_type": "stream",
          "text": [
            "4\n"
          ],
          "name": "stdout"
        }
      ]
    },
    {
      "cell_type": "code",
      "metadata": {
        "id": "qXQDNPQyhFHP",
        "colab_type": "code",
        "colab": {
          "base_uri": "https://localhost:8080/",
          "height": 35
        },
        "outputId": "ffcaaea9-8680-4854-da6c-946e08ac2918"
      },
      "source": [
        "# desetinne cislo\n",
        "b = 1.4\n",
        "print(b)"
      ],
      "execution_count": 2,
      "outputs": [
        {
          "output_type": "stream",
          "text": [
            "1.4\n"
          ],
          "name": "stdout"
        }
      ]
    },
    {
      "cell_type": "code",
      "metadata": {
        "id": "QNLvLC6hhJn9",
        "colab_type": "code",
        "colab": {
          "base_uri": "https://localhost:8080/",
          "height": 54
        },
        "outputId": "4094b7fb-5772-462f-8a26-30defde19527"
      },
      "source": [
        "# textovy retezec\n",
        "cstr = \"Ahoj\"\n",
        "print(cstr)\n",
        "dstr = 'Nazdar'\n",
        "print(dstr)"
      ],
      "execution_count": 3,
      "outputs": [
        {
          "output_type": "stream",
          "text": [
            "Ahoj\n",
            "Nazdar\n"
          ],
          "name": "stdout"
        }
      ]
    },
    {
      "cell_type": "code",
      "metadata": {
        "id": "m876ZPtCkDra",
        "colab_type": "code",
        "colab": {
          "base_uri": "https://localhost:8080/",
          "height": 54
        },
        "outputId": "ebd241ae-d460-46fc-b1f9-b07faa4bb56a"
      },
      "source": [
        "# bool\n",
        "cbool = True\n",
        "dbool = False\n",
        "print(cbool)\n",
        "print(dbool)"
      ],
      "execution_count": 10,
      "outputs": [
        {
          "output_type": "stream",
          "text": [
            "True\n",
            "False\n"
          ],
          "name": "stdout"
        }
      ]
    },
    {
      "cell_type": "markdown",
      "metadata": {
        "id": "koE8rsVUhVOH",
        "colab_type": "text"
      },
      "source": [
        "## Složené datové struktury"
      ]
    },
    {
      "cell_type": "code",
      "metadata": {
        "id": "t67T6otrhaZR",
        "colab_type": "code",
        "colab": {
          "base_uri": "https://localhost:8080/",
          "height": 54
        },
        "outputId": "d8649198-69a1-4b1f-9ca3-6f852e04f43b"
      },
      "source": [
        "# list / vektor\n",
        "e = [1, 2, 3]\n",
        "print(e)\n",
        "f = ['Nazdar', \"svete\"]\n",
        "print(f)"
      ],
      "execution_count": 4,
      "outputs": [
        {
          "output_type": "stream",
          "text": [
            "[1, 2, 3]\n",
            "['Nazdar', 'svete']\n"
          ],
          "name": "stdout"
        }
      ]
    },
    {
      "cell_type": "code",
      "metadata": {
        "id": "BI8-CZdHhlwD",
        "colab_type": "code",
        "colab": {
          "base_uri": "https://localhost:8080/",
          "height": 54
        },
        "outputId": "d2f052b1-f244-40e5-8d00-dedbaa048b2f"
      },
      "source": [
        "# dictionary\n",
        "g = {'name': 'Josef', 'age': 5}\n",
        "print(g)\n",
        "print(g['name'])"
      ],
      "execution_count": 5,
      "outputs": [
        {
          "output_type": "stream",
          "text": [
            "{'name': 'Josef', 'age': 5}\n",
            "Josef\n"
          ],
          "name": "stdout"
        }
      ]
    },
    {
      "cell_type": "code",
      "metadata": {
        "id": "a2aQEbnzh2K9",
        "colab_type": "code",
        "colab": {}
      },
      "source": [
        "# tridy\n",
        "# jsou ponekud komplexnejsi"
      ],
      "execution_count": 0,
      "outputs": []
    },
    {
      "cell_type": "markdown",
      "metadata": {
        "id": "x9odgV2Th6yV",
        "colab_type": "text"
      },
      "source": [
        "## Řídící struktury"
      ]
    },
    {
      "cell_type": "markdown",
      "metadata": {
        "id": "6uUw1eOakbxk",
        "colab_type": "text"
      },
      "source": [
        "### Podmínky"
      ]
    },
    {
      "cell_type": "code",
      "metadata": {
        "id": "gOTnR23Wked4",
        "colab_type": "code",
        "colab": {
          "base_uri": "https://localhost:8080/",
          "height": 35
        },
        "outputId": "811c726f-ee40-42c2-cf69-ca6457617f39"
      },
      "source": [
        "# if\n",
        "b = 1.4\n",
        "if b < 2:\n",
        "  print(b, ' < 2')\n",
        "else:\n",
        "  print(b, '>= 2')"
      ],
      "execution_count": 12,
      "outputs": [
        {
          "output_type": "stream",
          "text": [
            "1.4 je mensi\n"
          ],
          "name": "stdout"
        }
      ]
    },
    {
      "cell_type": "code",
      "metadata": {
        "id": "4KkQ3TwhlKHk",
        "colab_type": "code",
        "colab": {
          "base_uri": "https://localhost:8080/",
          "height": 35
        },
        "outputId": "5cfefddb-43fd-4e6b-b02c-55079d0a6a4a"
      },
      "source": [
        "# \"multi\" if\n",
        "b = 1.4\n",
        "if b < 1:\n",
        "  print(b, ' < 1')\n",
        "elif b < 2:\n",
        "  print(b, ' < 2')\n",
        "else:\n",
        "  print(b, '>= 2')  "
      ],
      "execution_count": 13,
      "outputs": [
        {
          "output_type": "stream",
          "text": [
            "1.4  < 2\n"
          ],
          "name": "stdout"
        }
      ]
    },
    {
      "cell_type": "markdown",
      "metadata": {
        "id": "6IJgLXsGh_Bf",
        "colab_type": "text"
      },
      "source": [
        "### Cykly"
      ]
    },
    {
      "cell_type": "code",
      "metadata": {
        "id": "eRv0Wix_h9kd",
        "colab_type": "code",
        "colab": {
          "base_uri": "https://localhost:8080/",
          "height": 90
        },
        "outputId": "be153cf5-2041-4845-939d-77de21da4149"
      },
      "source": [
        "# for\n",
        "data = [1, 2, 3, 4]\n",
        "for item in data:\n",
        "  print(item)"
      ],
      "execution_count": 6,
      "outputs": [
        {
          "output_type": "stream",
          "text": [
            "1\n",
            "2\n",
            "3\n",
            "4\n"
          ],
          "name": "stdout"
        }
      ]
    },
    {
      "cell_type": "code",
      "metadata": {
        "id": "viCU9qQpiKWX",
        "colab_type": "code",
        "colab": {
          "base_uri": "https://localhost:8080/",
          "height": 90
        },
        "outputId": "caa1ab9b-838c-41b6-e6f6-532a5813ce7f"
      },
      "source": [
        "# for s indexem, porovnej s predchazejicim\n",
        "for index, item in enumerate(data):\n",
        "  print(index, item)"
      ],
      "execution_count": 8,
      "outputs": [
        {
          "output_type": "stream",
          "text": [
            "0 1\n",
            "1 2\n",
            "2 3\n",
            "3 4\n"
          ],
          "name": "stdout"
        }
      ]
    },
    {
      "cell_type": "code",
      "metadata": {
        "id": "J3Zz3f5wjKBQ",
        "colab_type": "code",
        "colab": {
          "base_uri": "https://localhost:8080/",
          "height": 72
        },
        "outputId": "17beb25c-d6d6-4d61-87b7-635787c55d8e"
      },
      "source": [
        "# https://docs.python.org/3/reference/compound_stmts.html?highlight=while#the-while-statement\n",
        "# while\n",
        "item = 0\n",
        "while item < 3:\n",
        "  item = item + 1\n",
        "  print(item)"
      ],
      "execution_count": 9,
      "outputs": [
        {
          "output_type": "stream",
          "text": [
            "1\n",
            "2\n",
            "3\n"
          ],
          "name": "stdout"
        }
      ]
    },
    {
      "cell_type": "code",
      "metadata": {
        "id": "TMmIQyTBj93F",
        "colab_type": "code",
        "colab": {
          "base_uri": "https://localhost:8080/",
          "height": 72
        },
        "outputId": "49ab3374-4894-41fd-9515-3620cac9d01b"
      },
      "source": [
        "# while with break\n",
        "item = 0\n",
        "while True:\n",
        "  item = item + 1\n",
        "  print(item)\n",
        "  if item >= 3:\n",
        "    break\n",
        "  "
      ],
      "execution_count": 11,
      "outputs": [
        {
          "output_type": "stream",
          "text": [
            "1\n",
            "2\n",
            "3\n"
          ],
          "name": "stdout"
        }
      ]
    }
  ]
}