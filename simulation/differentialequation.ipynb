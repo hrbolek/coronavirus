{
  "nbformat": 4,
  "nbformat_minor": 0,
  "metadata": {
    "colab": {
      "name": "differentialequation.ipynb",
      "provenance": [],
      "authorship_tag": "ABX9TyMwqtcHocqFV+zJGg6EdAju",
      "include_colab_link": true
    },
    "kernelspec": {
      "name": "python3",
      "display_name": "Python 3"
    }
  },
  "cells": [
    {
      "cell_type": "markdown",
      "metadata": {
        "id": "view-in-github",
        "colab_type": "text"
      },
      "source": [
        "<a href=\"https://colab.research.google.com/github/hrbolek/coronavirus/blob/master/simulation/differentialequation.ipynb\" target=\"_parent\"><img src=\"https://colab.research.google.com/assets/colab-badge.svg\" alt=\"Open In Colab\"/></a>"
      ]
    },
    {
      "cell_type": "markdown",
      "metadata": {
        "id": "N4j8z9ebXAzh",
        "colab_type": "text"
      },
      "source": [
        "# Differential Equations"
      ]
    },
    {
      "cell_type": "markdown",
      "metadata": {
        "id": "WGd9MLx2XE2b",
        "colab_type": "text"
      },
      "source": [
        "## Little Theory\n",
        "\n",
        "Do not hesitate to study [Wiki](https://en.wikipedia.org/wiki/Differential_equation).\n",
        "\n",
        "You need to know about ODE, that we expect equations in standard form \n",
        "\n",
        "$\\frac{dy}{dx}=f(x)$\n",
        "\n",
        "or in short form\n",
        "\n",
        "$y'=f(x)$\n",
        "\n",
        "For solution of such equations we can use several methods such as [Runge-Kutta methods](https://en.wikipedia.org/wiki/Runge%E2%80%93Kutta_methods).\n",
        "\n",
        "Some software libraries have functions which have been designed for solution. In case of Python there is package [```scipy```](https://www.scipy.org/). There is namespace [```scipy.integrate```](https://docs.scipy.org/doc/scipy/reference/integrate.html) which contains functions ```RK45```, ```DOP853``` or others.\n",
        "\n",
        "All those functions create solver which can be called repeatly. As a parameter the python function which is equivalent of $\\frac{dy}{dt}=f(t,y)$ must be passed."
      ]
    },
    {
      "cell_type": "markdown",
      "metadata": {
        "id": "T8Vnn7H5bbQM",
        "colab_type": "text"
      },
      "source": [
        "## Inevitable imports"
      ]
    },
    {
      "cell_type": "code",
      "metadata": {
        "id": "WTDmK_YmV0oa",
        "colab_type": "code",
        "colab": {}
      },
      "source": [
        "import scipy.integrate as integrate # for numerical solution od differential equations\n",
        "import matplotlib.pyplot as plt     # for plots\n",
        "import pandas as pd                 # for tables\n",
        "import numpy as np                  # for matrices\n",
        "\n",
        "plt.rcParams[\"figure.figsize\"] = (15,10)"
      ],
      "execution_count": 0,
      "outputs": []
    },
    {
      "cell_type": "markdown",
      "metadata": {
        "id": "m30qk2gsbd86",
        "colab_type": "text"
      },
      "source": [
        "## Displaying Data"
      ]
    },
    {
      "cell_type": "code",
      "metadata": {
        "id": "RAWXCnuoWw00",
        "colab_type": "code",
        "colab": {
          "base_uri": "https://localhost:8080/",
          "height": 594
        },
        "outputId": "a269b4b3-b51b-4cef-fd23-cf9d673638fb"
      },
      "source": [
        "def displayData(data):\n",
        "  display(pd.DataFrame(data))\n",
        "\n",
        "def plotData(data, x = 0, y = 1, ax = None):\n",
        "  df = pd.DataFrame(data)\n",
        "  newax = None\n",
        "  if ax is None:\n",
        "    newax = df.plot.line(x = x, y = y)\n",
        "  else:\n",
        "    newax = df.plot.line(x = x, y = y, ax = ax)\n",
        "  return newax\n",
        "\n",
        "#=================#\n",
        "# example of use  #\n",
        "#=================#\n",
        "#data = [(0, 0), (1, 1), (2, 4), (3, 9), (4, 16), (5, 25), (6, 36), (7, 49)]\n",
        "data = [\n",
        "  {'x': 0, 'y': 0}, {'x': 1, 'y': 1}, {'x': 2, 'y': 4},\n",
        "  {'x': 3, 'y': 9}, {'x': 4, 'y': 16}, {'x': 5, 'y': 25},\n",
        "  {'x': 6, 'y': 36}, {'x': 7, 'y': 49}, {'x': 8, 'y': 64},\n",
        "]\n",
        "plotData(data)\n",
        "plt.grid(which='both')\n",
        "displayData(data)"
      ],
      "execution_count": 2,
      "outputs": [
        {
          "output_type": "display_data",
          "data": {
            "text/html": [
              "<div>\n",
              "<style scoped>\n",
              "    .dataframe tbody tr th:only-of-type {\n",
              "        vertical-align: middle;\n",
              "    }\n",
              "\n",
              "    .dataframe tbody tr th {\n",
              "        vertical-align: top;\n",
              "    }\n",
              "\n",
              "    .dataframe thead th {\n",
              "        text-align: right;\n",
              "    }\n",
              "</style>\n",
              "<table border=\"1\" class=\"dataframe\">\n",
              "  <thead>\n",
              "    <tr style=\"text-align: right;\">\n",
              "      <th></th>\n",
              "      <th>x</th>\n",
              "      <th>y</th>\n",
              "    </tr>\n",
              "  </thead>\n",
              "  <tbody>\n",
              "    <tr>\n",
              "      <th>0</th>\n",
              "      <td>0</td>\n",
              "      <td>0</td>\n",
              "    </tr>\n",
              "    <tr>\n",
              "      <th>1</th>\n",
              "      <td>1</td>\n",
              "      <td>1</td>\n",
              "    </tr>\n",
              "    <tr>\n",
              "      <th>2</th>\n",
              "      <td>2</td>\n",
              "      <td>4</td>\n",
              "    </tr>\n",
              "    <tr>\n",
              "      <th>3</th>\n",
              "      <td>3</td>\n",
              "      <td>9</td>\n",
              "    </tr>\n",
              "    <tr>\n",
              "      <th>4</th>\n",
              "      <td>4</td>\n",
              "      <td>16</td>\n",
              "    </tr>\n",
              "    <tr>\n",
              "      <th>5</th>\n",
              "      <td>5</td>\n",
              "      <td>25</td>\n",
              "    </tr>\n",
              "    <tr>\n",
              "      <th>6</th>\n",
              "      <td>6</td>\n",
              "      <td>36</td>\n",
              "    </tr>\n",
              "    <tr>\n",
              "      <th>7</th>\n",
              "      <td>7</td>\n",
              "      <td>49</td>\n",
              "    </tr>\n",
              "    <tr>\n",
              "      <th>8</th>\n",
              "      <td>8</td>\n",
              "      <td>64</td>\n",
              "    </tr>\n",
              "  </tbody>\n",
              "</table>\n",
              "</div>"
            ],
            "text/plain": [
              "   x   y\n",
              "0  0   0\n",
              "1  1   1\n",
              "2  2   4\n",
              "3  3   9\n",
              "4  4  16\n",
              "5  5  25\n",
              "6  6  36\n",
              "7  7  49\n",
              "8  8  64"
            ]
          },
          "metadata": {
            "tags": []
          }
        },
        {
          "output_type": "display_data",
          "data": {
            "image/png": "[encoded data removed]",
            "text/plain": [
              "<Figure size 432x288 with 1 Axes>"
            ]
          },
          "metadata": {
            "tags": [],
            "needs_background": "light"
          }
        }
      ]
    },
    {
      "cell_type": "markdown",
      "metadata": {
        "id": "iARiKQUcbiSi",
        "colab_type": "text"
      },
      "source": [
        "## Computation Method"
      ]
    },
    {
      "cell_type": "markdown",
      "metadata": {
        "id": "p61qG8wcsGro",
        "colab_type": "text"
      },
      "source": [
        "Notice two lines bellow\n",
        "\n",
        "```python\n",
        "  #solver = integrate.RK45(fun = model, t0 = t0, y0 = state0, t_bound = t_bound, max_step = max_step)\n",
        "  solver = integrate.DOP853(fun = model, t0 = t0, y0 = state0, t_bound = t_bound, max_step = max_step)\n",
        "```\n",
        "\n",
        "Feel free to (un)comment lines and change solver."
      ]
    },
    {
      "cell_type": "code",
      "metadata": {
        "id": "Km3vCg3yWzW9",
        "colab_type": "code",
        "colab": {
          "base_uri": "https://localhost:8080/",
          "height": 279
        },
        "outputId": "f6768bc2-77cc-43d8-e574-4bb50bd0434d"
      },
      "source": [
        "def compute(model, state0, t0 = 0.0, t_bound = 10, max_step = 0.0625):\n",
        "  #solver = integrate.RK45(fun = model, t0 = t0, y0 = state0, t_bound = t_bound, max_step = max_step)\n",
        "  solver = integrate.DOP853(fun = model, t0 = t0, y0 = state0, t_bound = t_bound, max_step = max_step)\n",
        "\n",
        "  while True:\n",
        "    message = solver.step()\n",
        "    currentItem = {'time': solver.t, 'y': [*solver.y], 'yd': [*model(solver.t, solver.y)]}\n",
        "\n",
        "    yield currentItem # send signal, inform about current result\n",
        "    if (not(solver.status == 'running')):\n",
        "        break\n",
        "  return\n",
        "\n",
        "#=================#\n",
        "# example of use  #\n",
        "#=================#\n",
        "def model2D(time, state):\n",
        "  velocity = state[:2]\n",
        "  position = state[2:]\n",
        "  acceleration = [0, -9.81]\n",
        "  return [*acceleration, *velocity]\n",
        "\n",
        "sim = compute(model2D, [10, 10, 0, 0])\n",
        "result = []\n",
        "for index, state in enumerate(sim):\n",
        "  result.append(state)\n",
        "  if index == 34: #magic number\n",
        "    break\n",
        "\n",
        "xy = list(map(lambda item: {'x': item['y'][2], 'y': item['y'][3]}, result))\n",
        "plotData(xy)\n",
        "plt.grid(which='both')"
      ],
      "execution_count": 4,
      "outputs": [
        {
          "output_type": "display_data",
          "data": {
            "image/png": "[encoded data removed]",
            "text/plain": [
              "<Figure size 432x288 with 1 Axes>"
            ]
          },
          "metadata": {
            "tags": [],
            "needs_background": "light"
          }
        }
      ]
    }
  ]
}