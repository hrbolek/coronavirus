{
  "nbformat": 4,
  "nbformat_minor": 0,
  "metadata": {
    "colab": {
      "name": "example02.ipynb",
      "provenance": [],
      "authorship_tag": "ABX9TyMJHePpg16rIn1CBPItL/CQ",
      "include_colab_link": true
    },
    "kernelspec": {
      "name": "python3",
      "display_name": "Python 3"
    }
  },
  "cells": [
    {
      "cell_type": "markdown",
      "metadata": {
        "id": "view-in-github",
        "colab_type": "text"
      },
      "source": [
        "<a href=\"https://colab.research.google.com/github/hrbolek/coronavirus/blob/master/example02.ipynb\" target=\"_parent\"><img src=\"https://colab.research.google.com/assets/colab-badge.svg\" alt=\"Open In Colab\"/></a>"
      ]
    },
    {
      "cell_type": "code",
      "metadata": {
        "id": "9Th2LmL7tMcP",
        "colab_type": "code",
        "colab": {
          "base_uri": "https://localhost:8080/",
          "height": 54
        },
        "outputId": "1bf074fa-d015-40b0-df6a-4a14cad587c1"
      },
      "source": [
        "!pip install func2pipe"
      ],
      "execution_count": 35,
      "outputs": [
        {
          "output_type": "stream",
          "text": [
            "Requirement already satisfied: func2pipe in /usr/local/lib/python3.6/dist-packages (0.3.6)\n",
            "Requirement already satisfied: setuptools in /usr/local/lib/python3.6/dist-packages (from func2pipe) (47.3.1)\n"
          ],
          "name": "stdout"
        }
      ]
    },
    {
      "cell_type": "code",
      "metadata": {
        "id": "B5GfJetFtf_i",
        "colab_type": "code",
        "colab": {}
      },
      "source": [
        "from func2pipe.func2pipe import createPipe, createSub, pipeit"
      ],
      "execution_count": 36,
      "outputs": []
    },
    {
      "cell_type": "markdown",
      "metadata": {
        "id": "DZBDjL7htjtm",
        "colab_type": "text"
      },
      "source": [
        "## Simple Functions"
      ]
    },
    {
      "cell_type": "code",
      "metadata": {
        "id": "yfvP66LctkWk",
        "colab_type": "code",
        "colab": {
          "base_uri": "https://localhost:8080/",
          "height": 54
        },
        "outputId": "8a075482-e4a3-4f5a-bf35-3c9970ba787a"
      },
      "source": [
        "@pipeit()\n",
        "def addone(item):\n",
        "    return item + 1\n",
        "\n",
        "@pipeit()\n",
        "def add(a, b):\n",
        "    return a + b\n",
        "\n",
        "operator = createPipe(\n",
        "    addone(),\n",
        "    add(b = 4),\n",
        "    list)\n",
        "\n",
        "sourceA = range(1, 20)\n",
        "sourceB = [45, 20, 6]\n",
        "print('first set\\t', operator(sourceA))\n",
        "print('second set\\t', operator(sourceB))\n"
      ],
      "execution_count": 37,
      "outputs": [
        {
          "output_type": "stream",
          "text": [
            "first set\t [6, 7, 8, 9, 10, 11, 12, 13, 14, 15, 16, 17, 18, 19, 20, 21, 22, 23, 24]\n",
            "second set\t [50, 25, 11]\n"
          ],
          "name": "stdout"
        }
      ]
    },
    {
      "cell_type": "markdown",
      "metadata": {
        "id": "RCB97nx16-pM",
        "colab_type": "text"
      },
      "source": [
        "## Simple Functions with Sub"
      ]
    },
    {
      "cell_type": "code",
      "metadata": {
        "id": "Hhj8uw5luU4z",
        "colab_type": "code",
        "colab": {
          "base_uri": "https://localhost:8080/",
          "height": 72
        },
        "outputId": "f5881cda-0b4b-456c-daf4-cd16da34c60c"
      },
      "source": [
        "@pipeit()\n",
        "def addone(item):\n",
        "    return item + 1\n",
        "\n",
        "@pipeit()\n",
        "def add(a, b):\n",
        "    return a + b\n",
        "\n",
        "@pipeit()\n",
        "def transform(item):\n",
        "    if (item > 12):\n",
        "        return True\n",
        "    else:\n",
        "        return False\n",
        "\n",
        "@pipeit()\n",
        "def transform2(item, fixed):\n",
        "    if (item > 12):\n",
        "        return {'r': True, 'f': fixed }\n",
        "    else:\n",
        "        return {'r': False, 'f': fixed }\n",
        "\n",
        "operatorB = createPipe(\n",
        "    addone(),\n",
        "    add(b = 4),\n",
        "    createSub(lambda input, output: {'i': input, **output})(\n",
        "      transform2(fixed = 'fixed')\n",
        "    ),\n",
        "    list)\n",
        "\n",
        "sourceA = range(1, 5)\n",
        "sourceB = [45, 20, 6]\n",
        "print('first set\\t', operatorB(sourceA))\n",
        "print('\\nsecond set\\t', operatorB(sourceB))"
      ],
      "execution_count": 41,
      "outputs": [
        {
          "output_type": "stream",
          "text": [
            "first set\t [{'i': 6, 'r': False, 'f': 'fixed'}, {'i': 7, 'r': False, 'f': 'fixed'}, {'i': 8, 'r': False, 'f': 'fixed'}, {'i': 9, 'r': False, 'f': 'fixed'}]\n",
            "\n",
            "second set\t [{'i': 50, 'r': True, 'f': 'fixed'}, {'i': 25, 'r': True, 'f': 'fixed'}, {'i': 11, 'r': False, 'f': 'fixed'}]\n"
          ],
          "name": "stdout"
        }
      ]
    },
    {
      "cell_type": "markdown",
      "metadata": {
        "id": "lLkgG-os7DXJ",
        "colab_type": "text"
      },
      "source": [
        "## Function with Yield"
      ]
    },
    {
      "cell_type": "code",
      "metadata": {
        "id": "_trYQdSf7Dkg",
        "colab_type": "code",
        "colab": {
          "base_uri": "https://localhost:8080/",
          "height": 54
        },
        "outputId": "e383bf2e-9543-4a4f-894f-287864f8468b"
      },
      "source": [
        "@pipeit(with_yield=True)\n",
        "def letters(item, spec):\n",
        "    for letter in item:\n",
        "        yield letter + spec\n",
        "\n",
        "operator = createPipe(\n",
        "    letters(spec = '-'),\n",
        "    tuple)\n",
        "\n",
        "sourceA = ['ABCDEF', 'GHIJKL']\n",
        "sourceB = ['MNOPQR', 'STUVWX']\n",
        "\n",
        "print('first set\\t', operator(sourceA))\n",
        "print('second set\\t', operator(sourceB))"
      ],
      "execution_count": 39,
      "outputs": [
        {
          "output_type": "stream",
          "text": [
            "first set\t ('A-', 'B-', 'C-', 'D-', 'E-', 'F-', 'G-', 'H-', 'I-', 'J-', 'K-', 'L-')\n",
            "second set\t ('M-', 'N-', 'O-', 'P-', 'Q-', 'R-', 'S-', 'T-', 'U-', 'V-', 'W-', 'X-')\n"
          ],
          "name": "stdout"
        }
      ]
    },
    {
      "cell_type": "markdown",
      "metadata": {
        "id": "0i9kgVrj8FHJ",
        "colab_type": "text"
      },
      "source": [
        "## Sub"
      ]
    },
    {
      "cell_type": "code",
      "metadata": {
        "id": "9LIdoWJ08FPe",
        "colab_type": "code",
        "colab": {
          "base_uri": "https://localhost:8080/",
          "height": 54
        },
        "outputId": "43d3969c-edee-41a6-d65f-512cd9937424"
      },
      "source": [
        "from functools import reduce\n",
        "\n",
        "@pipeit(with_yield=True)\n",
        "def letters(item):\n",
        "    for letter in item:\n",
        "        yield letter\n",
        "\n",
        "arrayReducer = lambda sequence: reduce(lambda x, y: [*x, y], sequence, [])\n",
        "\n",
        "sub = createSub(\n",
        "    assign = lambda input, output: {'source': input, 'letters': output },\n",
        "    reducer = arrayReducer)\n",
        "\n",
        "operator = sub(\n",
        "    letters()\n",
        "    )\n",
        "\n",
        "sourceA = ['ABCDEF', 'GHIJKL']\n",
        "sourceB = ['MNOPQR', 'STUVWX']\n",
        "\n",
        "print('first set\\t', list(operator(sourceA)))\n",
        "print('second set\\t', tuple(operator(sourceB)))"
      ],
      "execution_count": 40,
      "outputs": [
        {
          "output_type": "stream",
          "text": [
            "first set\t [{'source': 'ABCDEF', 'letters': ['A', 'B', 'C', 'D', 'E', 'F']}, {'source': 'GHIJKL', 'letters': ['G', 'H', 'I', 'J', 'K', 'L']}]\n",
            "second set\t ({'source': 'MNOPQR', 'letters': ['M', 'N', 'O', 'P', 'Q', 'R']}, {'source': 'STUVWX', 'letters': ['S', 'T', 'U', 'V', 'W', 'X']})\n"
          ],
          "name": "stdout"
        }
      ]
    }
  ]
}